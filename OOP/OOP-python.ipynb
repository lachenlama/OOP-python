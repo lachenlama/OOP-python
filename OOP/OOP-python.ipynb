{
 "cells": [
  {
   "cell_type": "markdown",
   "metadata": {},
   "source": [
    "# OBJECT ORIENTED PROGRAMMING\n",
    "---"
   ]
  },
  {
   "cell_type": "markdown",
   "metadata": {},
   "source": [
    "### Class\n",
    "* Blueprint, design of or for an object\n",
    "    * e.g Blueprint of a tower\n",
    "    \n",
    "### Object \n",
    "* Instance of a class, real stuff, entity of a class\n",
    "    * e.g A person, A real tower\n",
    "* An object constitutes of \n",
    "    * Attribute &#8594; Variables\n",
    "        * e.g height, age, etc\n",
    "    * Behaviours &#8594; Methods(functions)\n",
    "        * talking, walking, etc i.e actions"
   ]
  },
  {
   "cell_type": "code",
   "execution_count": 9,
   "metadata": {},
   "outputs": [
    {
     "name": "stdout",
     "output_type": "stream",
     "text": [
      "i5, 16gb, 1Tb\n",
      "i5, 16gb, 1Tb\n"
     ]
    }
   ],
   "source": [
    "class Computer:\n",
    "    \n",
    "    def config(self):\n",
    "        print(\"i5, 16gb, 1Tb\")\n",
    "        \n",
    "comp1 = Computer()\n",
    "\n",
    "# Computer.config()   # This will give an error because the config of the object you want\n",
    "                      # is not mentioned\n",
    "\n",
    "# We can call the method for an object like this\n",
    "Computer.config(comp1) # here comp1 is called as an argument of config() so comp1 here is the self.\n",
    "\n",
    "\n",
    "# The object for which you want the method should be called as below\n",
    "comp1.config()  # here comp1(object) is used to call the method, so comp1 is automatically taken as\n",
    "                # the argument of congfig"
   ]
  },
  {
   "cell_type": "markdown",
   "metadata": {},
   "source": [
    "## The __init__(self) method"
   ]
  },
  {
   "cell_type": "markdown",
   "metadata": {},
   "source": [
    "It will be getting called automatically. <br>\n",
    "Whenever you call an object the __init__() method will be called automatically for each object."
   ]
  },
  {
   "cell_type": "code",
   "execution_count": 13,
   "metadata": {},
   "outputs": [
    {
     "name": "stdout",
     "output_type": "stream",
     "text": [
      "The configs of the system are i5 and 8GB ram.\n",
      "The configs of the system are Ryzen and 4GB ram.\n"
     ]
    }
   ],
   "source": [
    "class Computer:\n",
    "    \n",
    "    def __init__(self, cpu, ram):  # The two extra arguments are cpu and ram and is used\n",
    "        self.cpu = cpu     # the self.cpu and self.ram is used to assign the two arguments\n",
    "        self.ram = ram     # to the particular object here self\n",
    "        \n",
    "    def config(self):\n",
    "        print(f\"The configs of the system are {self.cpu} and {self.ram}GB ram.\")\n",
    "        \n",
    "comp1 = Computer(\"i5\", 8)   # the two arguments here are the cpu and ram used in the __init__() method\n",
    "comp2 = Computer(\"Ryzen\", 4)# they are alloted the cpu and ram arguments for respective objects.\n",
    "# calling the config of each object\n",
    "comp1.config()\n",
    "comp2.config()\n",
    "        "
   ]
  },
  {
   "cell_type": "code",
   "execution_count": 16,
   "metadata": {},
   "outputs": [
    {
     "name": "stdout",
     "output_type": "stream",
     "text": [
      "Hello World!\n",
      "i5 and 8gb ram\n"
     ]
    }
   ],
   "source": [
    "class Computer:\n",
    "    \n",
    "    def __init__(self):\n",
    "        print(\"Hello World!\")\n",
    "        \n",
    "    def config(self):\n",
    "        print(\"i5 and 8gb ram\")\n",
    "        \n",
    "comp = Computer()\n",
    "comp.config()   # Even if we just call config method the __init__() method automatically gets called\n",
    "                # everytime you call the object"
   ]
  },
  {
   "cell_type": "markdown",
   "metadata": {},
   "source": [
    "## Heap Memory"
   ]
  },
  {
   "cell_type": "markdown",
   "metadata": {},
   "source": [
    "Heap memory is used to store objects in the system <br>\n",
    "each object is stored in the heap memory and it has an exculsive address."
   ]
  },
  {
   "cell_type": "code",
   "execution_count": 20,
   "metadata": {},
   "outputs": [
    {
     "name": "stdout",
     "output_type": "stream",
     "text": [
      "2502947761072\n",
      "2502947758384\n"
     ]
    }
   ],
   "source": [
    "class Computer:\n",
    "    pass\n",
    "\n",
    "c1 = Computer()\n",
    "c2 = Computer()\n",
    "\n",
    "print(id(c1))  # The output is the address of the object in the heap memory\n",
    "print(id(c2))  # Different objects have different address in the heap memory"
   ]
  },
  {
   "cell_type": "code",
   "execution_count": 23,
   "metadata": {},
   "outputs": [
    {
     "name": "stdout",
     "output_type": "stream",
     "text": [
      "Swaroop\n",
      "Swaroop\n"
     ]
    }
   ],
   "source": [
    "# e.g\n",
    "\n",
    "class Computer:\n",
    "    \n",
    "    def __init__(self):\n",
    "        self.name = \"Swaroop\"\n",
    "        self.age = 19\n",
    "    \n",
    "c1 = Computer()\n",
    "c2 = Computer()\n",
    "\n",
    "print(c1.name) # will print the default values of the name\n",
    "print(c2.name) # as provided in the __init__ method"
   ]
  },
  {
   "cell_type": "code",
   "execution_count": 26,
   "metadata": {},
   "outputs": [
    {
     "name": "stdout",
     "output_type": "stream",
     "text": [
      "Rinchen\n",
      "Swaroop\n"
     ]
    }
   ],
   "source": [
    "# To change the value for an object\n",
    "\n",
    "class Computer:\n",
    "    \n",
    "    def __init__(self):\n",
    "        self.name = \"Swaroop\"\n",
    "        self.age = 19\n",
    "        \n",
    "c1 = Computer()\n",
    "c2 = Computer()\n",
    "\n",
    "c1.name = \"Rinchen\"  # assigning a new name to the c1 object\n",
    "\n",
    "print(c1.name)  # prints the new assigned name for the c1 object\n",
    "print(c2.name) "
   ]
  },
  {
   "cell_type": "code",
   "execution_count": 33,
   "metadata": {},
   "outputs": [
    {
     "name": "stdout",
     "output_type": "stream",
     "text": [
      "True\n",
      "Rinchen\n",
      "Swaroop\n"
     ]
    }
   ],
   "source": [
    "# Another method\n",
    "\n",
    "class Computer:\n",
    "    \n",
    "    def __init__(self):\n",
    "        self.name = \"Swaroop\"\n",
    "        self.age = 19\n",
    "        \n",
    "        \n",
    "    def update(self):          # update method to update the name of an object to Rinchen\n",
    "        self.name = \"Rinchen\"\n",
    "        \n",
    "        \n",
    "    def compare(self, other):    # Compare method to check if the age of two objects are the same\n",
    "        if self.age == other.age:\n",
    "            return True\n",
    "        \n",
    "c1 = Computer()\n",
    "c2 = Computer()\n",
    "\n",
    "c1.update()   # called from the method update(self) here self is c1 object, i.e self will be the object that you call the method\n",
    "              # for\n",
    "print(c1.compare(c2))  #if the age of both the objects are same True is returned\n",
    "print(c1.name)\n",
    "print(c2.name)"
   ]
  },
  {
   "cell_type": "markdown",
   "metadata": {},
   "source": [
    "---"
   ]
  },
  {
   "cell_type": "markdown",
   "metadata": {},
   "source": [
    "## There are two types of Variables in OOP\n",
    "* Instance Variable &#8594; The variables inside __init__ method which can be changed for an object\n",
    "* Class(static) Variable &#8594; The variables outside __init__ method but within the class which is common for all the objects of the class"
   ]
  },
  {
   "cell_type": "code",
   "execution_count": 37,
   "metadata": {},
   "outputs": [
    {
     "name": "stdout",
     "output_type": "stream",
     "text": [
      "20 BMW 4\n",
      "10 BMW 4\n"
     ]
    }
   ],
   "source": [
    "class Car:\n",
    "    wheels = 4  # The static or Class variable\n",
    "    def __init__(self):\n",
    "        self.milage = 10    # the instance variable \n",
    "        self.company = \"BMW\"# this can be updated or changed for a class\n",
    "        \n",
    "c1 = Car()\n",
    "c2 = Car()\n",
    "c1.milage = 20    # updated milage(instance) variable of the c1 object\n",
    "wheels = 5        # can only be updated by Car.wheels = value cause wheels belong to class namespace\n",
    "print(c1.milage, c1.company, c1.wheels)\n",
    "print(c2.milage, c2.company, c2.wheels)"
   ]
  },
  {
   "cell_type": "markdown",
   "metadata": {},
   "source": [
    "---"
   ]
  },
  {
   "cell_type": "markdown",
   "metadata": {},
   "source": [
    "## There are three types of Methods in OOP\n",
    "1. Instance Method &#8594; _i_ Accessor Method and _ii_ Mutator Method\n",
    "    * Method which works with the object are called instance methods i.e methods with (self)\n",
    "        * Accessor methods just fetch the data e.g get() methods\n",
    "        * Mutator methods mutate the data e.g set() methods"
   ]
  },
  {
   "cell_type": "code",
   "execution_count": 40,
   "metadata": {},
   "outputs": [],
   "source": [
    "# e.g of an Instance Method\n",
    "class Student:\n",
    "    \n",
    "    school = \"XYZ School\"\n",
    "    \n",
    "    def __init__(self, m1, m2, m3): #marks\n",
    "        self.m1 = m1\n",
    "        self.m2 = m2\n",
    "        self.m3 = m3\n",
    "    \n",
    "    \n",
    "    def avg(self):     # instance method as these methods work with the object itself\n",
    "        return (self.m1 + self.m2 + self.m3)/3\n",
    "    \n",
    "    \n",
    "    def get_m1(self):   # Accessor method of Instance method as it only fetches and provides the variable\n",
    "        return self.m1\n",
    "    \n",
    "    \n",
    "    def set_m1(self):    # Mutator method of instance method as it mutates the variable\n",
    "         self.m1 = 80\n",
    "    \n",
    "s1 = Student(49,59,69)\n",
    "s2 = Student(50,70,99)\n",
    "s3 = Student(90,93,94)\n",
    "\n"
   ]
  },
  {
   "cell_type": "markdown",
   "metadata": {},
   "source": [
    "2. Class Method:\n",
    "    * Uses decorator @classmethod , class method is used in order to work with a class variable.\n",
    "3. Static Method:\n",
    "    * Uses decorator @staticmethod, static method is used when no argument is passed in the method, not even self."
   ]
  },
  {
   "cell_type": "code",
   "execution_count": 44,
   "metadata": {},
   "outputs": [
    {
     "name": "stdout",
     "output_type": "stream",
     "text": [
      "XYZ School\n",
      "This is a Student class\n"
     ]
    }
   ],
   "source": [
    "# e.g\n",
    "\n",
    "class Student:\n",
    "    \n",
    "    school = \"XYZ School\"\n",
    "    \n",
    "    @classmethod\n",
    "    def getschool(cls):    # Class Method \n",
    "        return cls.school\n",
    "    \n",
    "    @staticmethod\n",
    "    def info():     # Static method\n",
    "        print(\"This is a Student class\")\n",
    "        \n",
    "s1 = Student()\n",
    "print(Student.getschool())   #calling and printing the class method\n",
    "Student.info()    # calling the static method"
   ]
  },
  {
   "cell_type": "markdown",
   "metadata": {},
   "source": [
    "---"
   ]
  },
  {
   "cell_type": "markdown",
   "metadata": {},
   "source": [
    "## Inheritance"
   ]
  },
  {
   "cell_type": "code",
   "execution_count": 58,
   "metadata": {},
   "outputs": [
    {
     "name": "stdout",
     "output_type": "stream",
     "text": [
      "Feature 1 working\n"
     ]
    }
   ],
   "source": [
    "# Inheritance \n",
    "# single level inheritance\n",
    "class A:\n",
    "    \n",
    "    def feature1(self):\n",
    "        print(\"Feature 1 working\")\n",
    "        \n",
    "        \n",
    "    def feature2(self):\n",
    "        print(\"Feature 2 working\")\n",
    "        \n",
    "class B(A):  # Child class (subclass) of A - inherits all the features of class A\n",
    "    \n",
    "    def feature3(self):\n",
    "        print(\"Feature 3 working\")\n",
    "        \n",
    "    \n",
    "    def feature4(self):\n",
    "        print(\"Feature 4 working\")\n",
    "        \n",
    "a1 = A()  # object of class A\n",
    "b1 = B()  # object of class B\n",
    "\n",
    "b1.feature1()   # b1, the object of class B shows feature 1 i.e the method of class A. This is the result of inheritance."
   ]
  },
  {
   "cell_type": "code",
   "execution_count": 60,
   "metadata": {},
   "outputs": [
    {
     "name": "stdout",
     "output_type": "stream",
     "text": [
      "Feature 1 working\n",
      "Feature 2 working\n"
     ]
    }
   ],
   "source": [
    "# multilevel inheritance\n",
    "class A:\n",
    "    \n",
    "    def feature1(self):\n",
    "        print(\"Feature 1 working\")\n",
    "        \n",
    "        \n",
    "    def feature2(self):\n",
    "        print(\"Feature 2 working\")\n",
    "        \n",
    "class B(A):  # Child class (subclass) of A - inherits all the features of class A\n",
    "    \n",
    "    def feature3(self):\n",
    "        print(\"Feature 3 working\")\n",
    "        \n",
    "    \n",
    "    def feature4(self):\n",
    "        print(\"Feature 4 working\")\n",
    "        \n",
    "class C(B):\n",
    "    \n",
    "    def feature5(self):\n",
    "        print(\"Feature 5 working\")\n",
    "        \n",
    "a1 = A()  # object of class A\n",
    "b1 = B()  # object of class B\n",
    "c1 = C()  # object of class C\n",
    "b1.feature1()   # b1, the object of class B shows feature 1 i.e the method of class A. This is the result of inheritance.\n",
    "c1.feature2()   # inherits both class A and B"
   ]
  },
  {
   "cell_type": "code",
   "execution_count": 62,
   "metadata": {},
   "outputs": [
    {
     "name": "stdout",
     "output_type": "stream",
     "text": [
      "Feature 1 working\n"
     ]
    }
   ],
   "source": [
    "# multiple inheritance\n",
    "\n",
    "class A:\n",
    "    def feature1(self):\n",
    "        print(\"Feature 1 working\")\n",
    "        \n",
    "class B:\n",
    "    def feature2(self):\n",
    "        print(\"Feature 2 working\")\n",
    "        \n",
    "class C(A,B):   # multiple inheritance class which inherits both A and B class\n",
    "    def feature3(self):\n",
    "        print(\"Feature 3 working\")\n",
    "        \n",
    "c1 = C()\n",
    "c1.feature1() # the c1 object of class C acquired inheritance of class A i.e feature 1"
   ]
  },
  {
   "cell_type": "markdown",
   "metadata": {},
   "source": [
    "## Working with constructor in inheritance"
   ]
  },
  {
   "cell_type": "code",
   "execution_count": 64,
   "metadata": {},
   "outputs": [
    {
     "name": "stdout",
     "output_type": "stream",
     "text": [
      "Class A init\n",
      "Class B init\n"
     ]
    }
   ],
   "source": [
    "# e.g \n",
    "\n",
    "class A:\n",
    "    def __init__(self):\n",
    "        print(\"Class A init\")\n",
    "        \n",
    "class B(A):\n",
    "    def __init__(self):\n",
    "        super().__init__()    # super() will inherit the constructor(__init__) of class A i.e the superclass and we can work\n",
    "        print(\"Class B init\") # with it in the subclass. If we do not use super().__init__() then only the constructor of the\n",
    "                              # class B will be displayed\n",
    "b1 = B()"
   ]
  },
  {
   "cell_type": "code",
   "execution_count": 66,
   "metadata": {},
   "outputs": [
    {
     "name": "stdout",
     "output_type": "stream",
     "text": [
      "Class A init\n",
      "Class C init\n"
     ]
    }
   ],
   "source": [
    "# when you have two superclasses\n",
    "class A:\n",
    "    def __init__(self):\n",
    "        print(\"Class A init\")\n",
    "        \n",
    "class B:\n",
    "    def __init__(self):\n",
    "        print(\"class B init\")\n",
    "        \n",
    "class C(A,B):\n",
    "    def __init__(self):\n",
    "        super().__init__()\n",
    "        print(\"Class C init\")\n",
    "        \n",
    "c1 = C()   # output=> class A constructor is printed instead of B before printing constructor of C itself, why? \n",
    "           # While inheritance we alloted A before B i.e in C(A,B) A comes before B therefor as per Method Resolution Order(MRO)\n",
    "           # The Class which comes first(or to the left) in inheritance is printed first or called first with super().__init__()\n",
    "           # method. "
   ]
  },
  {
   "cell_type": "code",
   "execution_count": 68,
   "metadata": {},
   "outputs": [
    {
     "name": "stdout",
     "output_type": "stream",
     "text": [
      "class B init\n",
      "Class C init\n"
     ]
    }
   ],
   "source": [
    "class A:\n",
    "    def __init__(self):\n",
    "        print(\"Class A init\")\n",
    "        \n",
    "class B:\n",
    "    def __init__(self):\n",
    "        print(\"class B init\")\n",
    "        \n",
    "class C(B,A):\n",
    "    def __init__(self):\n",
    "        super().__init__()\n",
    "        print(\"Class C init\")\n",
    "        \n",
    "c1 = C()   # output=> the opposite of the above solution, i.e provides class B init first rather than class A\n",
    "           # we can say the method always goes from left to right"
   ]
  },
  {
   "cell_type": "markdown",
   "metadata": {},
   "source": [
    "## Method Resolution Order"
   ]
  },
  {
   "cell_type": "code",
   "execution_count": 70,
   "metadata": {},
   "outputs": [
    {
     "name": "stdout",
     "output_type": "stream",
     "text": [
      "Class A init\n",
      "Class C init\n",
      "Feature 1-A\n"
     ]
    }
   ],
   "source": [
    "# e.g \n",
    "class A:\n",
    "    def __init__(self):\n",
    "        print(\"Class A init\")\n",
    "        \n",
    "    def feature1(self):\n",
    "        print(\"Feature 1-A\")\n",
    "        \n",
    "class B:\n",
    "    def __init__(self):\n",
    "        print(\"Class B init\")\n",
    "        \n",
    "    def feature1(self):\n",
    "        print(\"Feature 1-B\")\n",
    "        \n",
    "class C(A,B):\n",
    "    def __init__(self):\n",
    "        super().__init__()\n",
    "        print(\"Class C init\")\n",
    "        \n",
    "c1 = C()\n",
    "c1.feature1()  #Will print feature1() of class A rather than B cause class A comes before B in the C(A,B) child class inheritance"
   ]
  },
  {
   "cell_type": "code",
   "execution_count": null,
   "metadata": {},
   "outputs": [],
   "source": []
  }
 ],
 "metadata": {
  "kernelspec": {
   "display_name": "Python 3",
   "language": "python",
   "name": "python3"
  },
  "language_info": {
   "codemirror_mode": {
    "name": "ipython",
    "version": 3
   },
   "file_extension": ".py",
   "mimetype": "text/x-python",
   "name": "python",
   "nbconvert_exporter": "python",
   "pygments_lexer": "ipython3",
   "version": "3.9.0"
  }
 },
 "nbformat": 4,
 "nbformat_minor": 4
}
