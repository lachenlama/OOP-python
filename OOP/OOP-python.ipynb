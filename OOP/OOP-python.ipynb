{
 "cells": [
  {
   "cell_type": "markdown",
   "metadata": {},
   "source": [
    "# OBJECT ORIENTED PROGRAMMING\n",
    "---"
   ]
  },
  {
   "cell_type": "markdown",
   "metadata": {},
   "source": [
    "### Class\n",
    "* Blueprint, design of or for an object\n",
    "    * e.g Blueprint of a tower\n",
    "    \n",
    "### Object \n",
    "* Instance of a class, real stuff, entity of a class\n",
    "    * e.g A person, A real tower\n",
    "* An object constitutes of \n",
    "    * Attribute &#8594; Variables\n",
    "        * e.g height, age, etc\n",
    "    * Behaviours &#8594; Methods(functions)\n",
    "        * talking, walking, etc i.e actions"
   ]
  },
  {
   "cell_type": "code",
   "execution_count": 1,
   "metadata": {},
   "outputs": [],
   "source": [
    "class Computer:\n",
    "    \n",
    "    def config(self):\n",
    "        print(\"i5, 16gb, 1Tb\")\n",
    "        \n",
    "comp1 = Computer()\n",
    "\n",
    "# Computer.config()   # This will give an error because the config of the object you want\n",
    "                      # is not mentioned\n",
    "\n",
    "# We can call the method for an object like this\n",
    "Computer.config(comp1) # here comp1 is called as an argument of config() so comp1 here is the self.\n",
    "\n",
    "\n",
    "# The object for which you want the method should be called as below\n",
    "comp1.config()  # here comp1(object) is used to call the method, so comp1 is automatically taken as\n",
    "                # the argument of congfig"
   ]
  },
  {
   "cell_type": "markdown",
   "metadata": {},
   "source": [
    "--x--x--x--x--x--"
   ]
  },
  {
   "cell_type": "markdown",
   "metadata": {},
   "source": [
    "## The __init__(self) method"
   ]
  },
  {
   "cell_type": "markdown",
   "metadata": {},
   "source": [
    "It will be getting called automatically. <br>\n",
    "Whenever you call an object the __init__() method will be called automatically for each object."
   ]
  },
  {
   "cell_type": "code",
   "execution_count": 2,
   "metadata": {},
   "outputs": [],
   "source": [
    "class Computer:\n",
    "    \n",
    "    def __init__(self, cpu, ram):  # The two extra arguments are cpu and ram and is used\n",
    "        self.cpu = cpu     # the self.cpu and self.ram is used to assign the two arguments\n",
    "        self.ram = ram     # to the particular object here self\n",
    "        \n",
    "    def config(self):\n",
    "        print(f\"The configs of the system are {self.cpu} and {self.ram}GB ram.\")\n",
    "        \n",
    "comp1 = Computer(\"i5\", 8)   # the two arguments here are the cpu and ram used in the __init__() method\n",
    "comp2 = Computer(\"Ryzen\", 4)# they are alloted the cpu and ram arguments for respective objects.\n",
    "# calling the config of each object\n",
    "comp1.config()\n",
    "comp2.config()\n",
    "        "
   ]
  },
  {
   "cell_type": "code",
   "execution_count": 3,
   "metadata": {},
   "outputs": [],
   "source": [
    "class Computer:\n",
    "    \n",
    "    def __init__(self):\n",
    "        print(\"Hello World!\")\n",
    "        \n",
    "    def config(self):\n",
    "        print(\"i5 and 8gb ram\")\n",
    "        \n",
    "comp = Computer()\n",
    "comp.config()   # Even if we just call config method the __init__() method automatically gets called\n",
    "                # everytime you call the object"
   ]
  },
  {
   "cell_type": "markdown",
   "metadata": {},
   "source": [
    "--x--x--x--x--x--"
   ]
  },
  {
   "cell_type": "markdown",
   "metadata": {},
   "source": [
    "## Heap Memory"
   ]
  },
  {
   "cell_type": "markdown",
   "metadata": {},
   "source": [
    "Heap memory is used to store objects in the system <br>\n",
    "each object is stored in the heap memory and it has an exculsive address."
   ]
  },
  {
   "cell_type": "code",
   "execution_count": 4,
   "metadata": {},
   "outputs": [],
   "source": [
    "class Computer:\n",
    "    pass\n",
    "\n",
    "c1 = Computer()\n",
    "c2 = Computer()\n",
    "\n",
    "print(id(c1))  # The output is the address of the object in the heap memory\n",
    "print(id(c2))  # Different objects have different address in the heap memory"
   ]
  },
  {
   "cell_type": "code",
   "execution_count": 5,
   "metadata": {},
   "outputs": [],
   "source": [
    "# e.g\n",
    "\n",
    "class Computer:\n",
    "    \n",
    "    def __init__(self):\n",
    "        self.name = \"Swaroop\"\n",
    "        self.age = 19\n",
    "    \n",
    "c1 = Computer()\n",
    "c2 = Computer()\n",
    "\n",
    "print(c1.name) # will print the default values of the name\n",
    "print(c2.name) # as provided in the __init__ method"
   ]
  },
  {
   "cell_type": "code",
   "execution_count": 6,
   "metadata": {},
   "outputs": [],
   "source": [
    "# To change the value for an object\n",
    "\n",
    "class Computer:\n",
    "    \n",
    "    def __init__(self):\n",
    "        self.name = \"Swaroop\"\n",
    "        self.age = 19\n",
    "        \n",
    "c1 = Computer()\n",
    "c2 = Computer()\n",
    "\n",
    "c1.name = \"Rinchen\"  # assigning a new name to the c1 object\n",
    "\n",
    "print(c1.name)  # prints the new assigned name for the c1 object\n",
    "print(c2.name) "
   ]
  },
  {
   "cell_type": "code",
   "execution_count": 7,
   "metadata": {},
   "outputs": [],
   "source": [
    "# Another method\n",
    "\n",
    "class Computer:\n",
    "    \n",
    "    def __init__(self):\n",
    "        self.name = \"Swaroop\"\n",
    "        self.age = 19\n",
    "        \n",
    "        \n",
    "    def update(self):          # update method to update the name of an object to Rinchen\n",
    "        self.name = \"Rinchen\"\n",
    "        \n",
    "        \n",
    "    def compare(self, other):    # Compare method to check if the age of two objects are the same\n",
    "        if self.age == other.age:\n",
    "            return True\n",
    "        \n",
    "c1 = Computer()\n",
    "c2 = Computer()\n",
    "\n",
    "c1.update()   # called from the method update(self) here self is c1 object, i.e self will be the object that you call the method\n",
    "              # for\n",
    "print(c1.compare(c2))  #if the age of both the objects are same True is returned\n",
    "print(c1.name)\n",
    "print(c2.name)"
   ]
  },
  {
   "cell_type": "markdown",
   "metadata": {},
   "source": [
    "--X--X--X--X--X--"
   ]
  },
  {
   "cell_type": "markdown",
   "metadata": {},
   "source": [
    "## There are two types of Variables in OOP\n",
    "* Instance Variable &#8594; The variables inside __init__ method which can be changed for an object\n",
    "* Class(static) Variable &#8594; The variables outside __init__ method but within the class which is common for all the objects of the class"
   ]
  },
  {
   "cell_type": "code",
   "execution_count": 8,
   "metadata": {},
   "outputs": [],
   "source": [
    "class Car:\n",
    "    wheels = 4  # The static or Class variable\n",
    "    def __init__(self):\n",
    "        self.milage = 10    # the instance variable \n",
    "        self.company = \"BMW\"# this can be updated or changed for a class\n",
    "        \n",
    "c1 = Car()\n",
    "c2 = Car()\n",
    "c1.milage = 20    # updated milage(instance) variable of the c1 object\n",
    "wheels = 5        # can only be updated by Car.wheels = value cause wheels belong to class namespace\n",
    "print(c1.milage, c1.company, c1.wheels)\n",
    "print(c2.milage, c2.company, c2.wheels)"
   ]
  },
  {
   "cell_type": "markdown",
   "metadata": {},
   "source": [
    "--X--x--X--x--X--"
   ]
  },
  {
   "cell_type": "markdown",
   "metadata": {},
   "source": [
    "## There are three types of Methods in OOP\n",
    "1. Instance Method &#8594; _i_ Accessor Method and _ii_ Mutator Method\n",
    "    * Method which works with the object are called instance methods i.e methods with (self)\n",
    "        * Accessor methods just fetch the data e.g get() methods\n",
    "        * Mutator methods mutate the data e.g set() methods"
   ]
  },
  {
   "cell_type": "code",
   "execution_count": 9,
   "metadata": {},
   "outputs": [],
   "source": [
    "# e.g of an Instance Method\n",
    "class Student:\n",
    "    \n",
    "    school = \"XYZ School\"\n",
    "    \n",
    "    def __init__(self, m1, m2, m3): #marks\n",
    "        self.m1 = m1\n",
    "        self.m2 = m2\n",
    "        self.m3 = m3\n",
    "    \n",
    "    \n",
    "    def avg(self):     # instance method as these methods work with the object itself\n",
    "        return (self.m1 + self.m2 + self.m3)/3\n",
    "    \n",
    "    \n",
    "    def get_m1(self):   # Accessor method of Instance method as it only fetches and provides the variable\n",
    "        return self.m1\n",
    "    \n",
    "    \n",
    "    def set_m1(self):    # Mutator method of instance method as it mutates the variable\n",
    "         self.m1 = 80\n",
    "    \n",
    "s1 = Student(49,59,69)\n",
    "s2 = Student(50,70,99)\n",
    "s3 = Student(90,93,94)\n",
    "\n"
   ]
  },
  {
   "cell_type": "markdown",
   "metadata": {},
   "source": [
    "2. Class Method:\n",
    "    * Uses decorator @classmethod , class method is used in order to work with a class variable.\n",
    "3. Static Method:\n",
    "    * Uses decorator @staticmethod, static method is used when no argument is passed in the method, not even self."
   ]
  },
  {
   "cell_type": "code",
   "execution_count": 10,
   "metadata": {},
   "outputs": [],
   "source": [
    "# e.g\n",
    "\n",
    "class Student:\n",
    "    \n",
    "    school = \"XYZ School\"\n",
    "    \n",
    "    @classmethod\n",
    "    def getschool(cls):    # Class Method \n",
    "        return cls.school\n",
    "    \n",
    "    @staticmethod\n",
    "    def info():     # Static method\n",
    "        print(\"This is a Student class\")\n",
    "        \n",
    "s1 = Student()\n",
    "print(Student.getschool())   #calling and printing the class method\n",
    "Student.info()    # calling the static method"
   ]
  },
  {
   "cell_type": "markdown",
   "metadata": {},
   "source": [
    "--x--x--x--x--x--"
   ]
  },
  {
   "cell_type": "markdown",
   "metadata": {},
   "source": [
    "## Inheritance"
   ]
  },
  {
   "cell_type": "code",
   "execution_count": 11,
   "metadata": {},
   "outputs": [],
   "source": [
    "# Inheritance \n",
    "# single level inheritance\n",
    "class A:\n",
    "    \n",
    "    def feature1(self):\n",
    "        print(\"Feature 1 working\")\n",
    "        \n",
    "        \n",
    "    def feature2(self):\n",
    "        print(\"Feature 2 working\")\n",
    "        \n",
    "class B(A):  # Child class (subclass) of A - inherits all the features of class A\n",
    "    \n",
    "    def feature3(self):\n",
    "        print(\"Feature 3 working\")\n",
    "        \n",
    "    \n",
    "    def feature4(self):\n",
    "        print(\"Feature 4 working\")\n",
    "        \n",
    "a1 = A()  # object of class A\n",
    "b1 = B()  # object of class B\n",
    "\n",
    "b1.feature1()   # b1, the object of class B shows feature 1 i.e the method of class A. This is the result of inheritance."
   ]
  },
  {
   "cell_type": "code",
   "execution_count": 12,
   "metadata": {},
   "outputs": [],
   "source": [
    "# multilevel inheritance\n",
    "class A:\n",
    "    \n",
    "    def feature1(self):\n",
    "        print(\"Feature 1 working\")\n",
    "        \n",
    "        \n",
    "    def feature2(self):\n",
    "        print(\"Feature 2 working\")\n",
    "        \n",
    "class B(A):  # Child class (subclass) of A - inherits all the features of class A\n",
    "    \n",
    "    def feature3(self):\n",
    "        print(\"Feature 3 working\")\n",
    "        \n",
    "    \n",
    "    def feature4(self):\n",
    "        print(\"Feature 4 working\")\n",
    "        \n",
    "class C(B):\n",
    "    \n",
    "    def feature5(self):\n",
    "        print(\"Feature 5 working\")\n",
    "        \n",
    "a1 = A()  # object of class A\n",
    "b1 = B()  # object of class B\n",
    "c1 = C()  # object of class C\n",
    "b1.feature1()   # b1, the object of class B shows feature 1 i.e the method of class A. This is the result of inheritance.\n",
    "c1.feature2()   # inherits both class A and B"
   ]
  },
  {
   "cell_type": "code",
   "execution_count": 13,
   "metadata": {},
   "outputs": [],
   "source": [
    "# multiple inheritance\n",
    "\n",
    "class A:\n",
    "    def feature1(self):\n",
    "        print(\"Feature 1 working\")\n",
    "        \n",
    "class B:\n",
    "    def feature2(self):\n",
    "        print(\"Feature 2 working\")\n",
    "        \n",
    "class C(A,B):   # multiple inheritance class which inherits both A and B class\n",
    "    def feature3(self):\n",
    "        print(\"Feature 3 working\")\n",
    "        \n",
    "c1 = C()\n",
    "c1.feature1() # the c1 object of class C acquired inheritance of class A i.e feature 1"
   ]
  },
  {
   "cell_type": "markdown",
   "metadata": {},
   "source": [
    "## Working with constructor in inheritance"
   ]
  },
  {
   "cell_type": "code",
   "execution_count": 14,
   "metadata": {},
   "outputs": [],
   "source": [
    "# e.g \n",
    "\n",
    "class A:\n",
    "    def __init__(self):\n",
    "        print(\"Class A init\")\n",
    "        \n",
    "class B(A):\n",
    "    def __init__(self):\n",
    "        super().__init__()    # super() will inherit the constructor(__init__) of class A i.e the superclass and we can work\n",
    "        print(\"Class B init\") # with it in the subclass. If we do not use super().__init__() then only the constructor of the\n",
    "                              # class B will be displayed\n",
    "b1 = B()"
   ]
  },
  {
   "cell_type": "code",
   "execution_count": 15,
   "metadata": {},
   "outputs": [],
   "source": [
    "# when you have two superclasses\n",
    "class A:\n",
    "    def __init__(self):\n",
    "        print(\"Class A init\")\n",
    "        \n",
    "class B:\n",
    "    def __init__(self):\n",
    "        print(\"class B init\")\n",
    "        \n",
    "class C(A,B):\n",
    "    def __init__(self):\n",
    "        super().__init__()\n",
    "        print(\"Class C init\")\n",
    "        \n",
    "c1 = C()   # output=> class A constructor is printed instead of B before printing constructor of C itself, why? \n",
    "           # While inheritance we alloted A before B i.e in C(A,B) A comes before B therefor as per Method Resolution Order(MRO)\n",
    "           # The Class which comes first(or to the left) in inheritance is printed first or called first with super().__init__()\n",
    "           # method. "
   ]
  },
  {
   "cell_type": "code",
   "execution_count": 16,
   "metadata": {},
   "outputs": [],
   "source": [
    "class A:\n",
    "    def __init__(self):\n",
    "        print(\"Class A init\")\n",
    "        \n",
    "class B:\n",
    "    def __init__(self):\n",
    "        print(\"class B init\")\n",
    "        \n",
    "class C(B,A):\n",
    "    def __init__(self):\n",
    "        super().__init__()\n",
    "        print(\"Class C init\")\n",
    "        \n",
    "c1 = C()   # output=> the opposite of the above solution, i.e provides class B init first rather than class A\n",
    "           # we can say the method always goes from left to right"
   ]
  },
  {
   "cell_type": "markdown",
   "metadata": {},
   "source": [
    "## Method Resolution Order"
   ]
  },
  {
   "cell_type": "code",
   "execution_count": 17,
   "metadata": {},
   "outputs": [],
   "source": [
    "# e.g \n",
    "class A:\n",
    "    def __init__(self):\n",
    "        print(\"Class A init\")\n",
    "        \n",
    "    def feature1(self):\n",
    "        print(\"Feature 1-A\")\n",
    "        \n",
    "class B:\n",
    "    def __init__(self):\n",
    "        print(\"Class B init\")\n",
    "        \n",
    "    def feature1(self):\n",
    "        print(\"Feature 1-B\")\n",
    "        \n",
    "class C(A,B):\n",
    "    def __init__(self):\n",
    "        super().__init__()\n",
    "        print(\"Class C init\")\n",
    "        \n",
    "c1 = C()\n",
    "c1.feature1()  #Will print feature1() of class A rather than B cause class A comes before B in the C(A,B) child class inheritance"
   ]
  },
  {
   "cell_type": "markdown",
   "metadata": {},
   "source": [
    "--x--x--x--x--x--"
   ]
  },
  {
   "cell_type": "markdown",
   "metadata": {},
   "source": [
    "## Polymorphism"
   ]
  },
  {
   "cell_type": "markdown",
   "metadata": {},
   "source": [
    "* Duck Typing\n",
    "    * _If it looks like a duck, swims like a duck and quacks like a duck. It is probably a duck_. \n",
    "    * We do not care about the type, class or object what is important here is the method it defines.\n",
    "* Operator Overloading\n",
    "    * Giving an extended meaning of pre-defined operator in a class i.e +,-,*,/,etc.\n",
    "* Method Overloading\n",
    "    * When two methods of a class have the same name but different amount of arguments then it is called method overloading. **BUT** in python we do not exclusively use this concept, we can method overload as in the example given below in python.\n",
    "* Method Overriding\n",
    "    * When one method in a child-class is not present but is present in the superclass of the child-class then that method can be inherited by the child class easily. **BUT** when the child class gets itself the same method then that method of the superclass is no longer used by the child class, it **overrides** the previous method with its own method."
   ]
  },
  {
   "cell_type": "code",
   "execution_count": 18,
   "metadata": {},
   "outputs": [
    {
     "ename": "AttributeError",
     "evalue": "'Dog' object has no attribute 'fly'",
     "output_type": "error",
     "traceback": [
      "\u001b[1;31m---------------------------------------------------------------------------\u001b[0m",
      "\u001b[1;31mAttributeError\u001b[0m                            Traceback (most recent call last)",
      "\u001b[1;32m<ipython-input-18-4893524edd50>\u001b[0m in \u001b[0;36m<module>\u001b[1;34m\u001b[0m\n\u001b[0;32m     17\u001b[0m \u001b[1;33m\u001b[0m\u001b[0m\n\u001b[0;32m     18\u001b[0m \u001b[1;32mfor\u001b[0m \u001b[0mobj\u001b[0m \u001b[1;32min\u001b[0m \u001b[0mBird\u001b[0m\u001b[1;33m(\u001b[0m\u001b[1;33m)\u001b[0m\u001b[1;33m,\u001b[0m\u001b[0mAeroplane\u001b[0m\u001b[1;33m(\u001b[0m\u001b[1;33m)\u001b[0m\u001b[1;33m,\u001b[0m\u001b[0mDog\u001b[0m\u001b[1;33m(\u001b[0m\u001b[1;33m)\u001b[0m\u001b[1;33m:\u001b[0m  \u001b[1;31m# the first two fly outputs are given without considering the classes or types into acc.\u001b[0m\u001b[1;33m\u001b[0m\u001b[1;33m\u001b[0m\u001b[0m\n\u001b[1;32m---> 19\u001b[1;33m     \u001b[0mobj\u001b[0m\u001b[1;33m.\u001b[0m\u001b[0mfly\u001b[0m\u001b[1;33m(\u001b[0m\u001b[1;33m)\u001b[0m                         \u001b[1;31m# only the name of the method matters\u001b[0m\u001b[1;33m\u001b[0m\u001b[1;33m\u001b[0m\u001b[0m\n\u001b[0m",
      "\u001b[1;31mAttributeError\u001b[0m: 'Dog' object has no attribute 'fly'"
     ]
    }
   ],
   "source": [
    "# e.g Duck Typing\n",
    "\n",
    "class Bird:\n",
    "    \n",
    "    def fly(self):   # methods with the same name are considered duck typing\n",
    "        print(\"Bird hav wings\")\n",
    "        \n",
    "class Aeroplane:\n",
    "    \n",
    "    def fly(self):   # duck typing \n",
    "        print(\"Aeroplanes have wings too\")\n",
    "        \n",
    "class Dog:\n",
    "    \n",
    "    def walk(self):\n",
    "        print(\"Dogs walk with legs\")\n",
    "        \n",
    "for obj in Bird(),Aeroplane(),Dog():  # the first two fly outputs are given without considering the classes or types into acc.\n",
    "    obj.fly()                         # only the name of the method matters"
   ]
  },
  {
   "cell_type": "code",
   "execution_count": 19,
   "metadata": {},
   "outputs": [
    {
     "name": "stdout",
     "output_type": "stream",
     "text": [
      "(60, 90)\n"
     ]
    }
   ],
   "source": [
    "# e.g Operator Overloading\n",
    "\n",
    "class Student:\n",
    "    \n",
    "    def __init__(self, m1, m2):\n",
    "        self.m1 = m1\n",
    "        self.m2 = m2\n",
    "        \n",
    "        \n",
    "    def __add__(self, other):\n",
    "        s1 = self.m1 + other.m1   # s1 will add m1 of two student class\n",
    "        s2 = self.m2 + other.m2   # s2 will add m2 of two student class\n",
    "        return s1, s2             # will return the sum of m1 of one class and m1 of another class , same with m2 \n",
    "        \n",
    "    \n",
    "c1 = Student(10,40)   # the two student classes\n",
    "c2 = Student(50,50)\n",
    "c3 = c1 + c2\n",
    "print(c3)    # the ouput is in the form of a tuple, in order to get the output as string refer the next cell "
   ]
  },
  {
   "cell_type": "code",
   "execution_count": 20,
   "metadata": {},
   "outputs": [
    {
     "name": "stdout",
     "output_type": "stream",
     "text": [
      "(60, 90)\n"
     ]
    }
   ],
   "source": [
    "# e.g Operator overloading\n",
    "\n",
    "class Student:\n",
    "    \n",
    "    def __init__(self, m1, m2):\n",
    "        self.m1 = m1\n",
    "        self.m2 = m2\n",
    "        \n",
    "        \n",
    "    def __add__(self, other):\n",
    "        s1 = self.m1 + other.m1   # s1 will add m1 of two student class\n",
    "        s2 = self.m2 + other.m2   # s2 will add m2 of two student class\n",
    "        return s1, s2             # will return the sum of m1 of one class and m1 of another class , same with m2 \n",
    "        \n",
    "        \n",
    "    def __str__(self):            # The output can be returned as string with this method\n",
    "        return self.m1, self.m2\n",
    "    \n",
    "c1 = Student(10,40)   # the two student classes\n",
    "c2 = Student(50,50)\n",
    "c3 = c1 + c2\n",
    "print(c3)"
   ]
  },
  {
   "cell_type": "code",
   "execution_count": 21,
   "metadata": {},
   "outputs": [
    {
     "data": {
      "text/plain": [
       "30"
      ]
     },
     "execution_count": 21,
     "metadata": {},
     "output_type": "execute_result"
    }
   ],
   "source": [
    "# e.g Method Overloading in python\n",
    "\n",
    "class Student:\n",
    "    \n",
    "    def __init__(self, m1, m2):\n",
    "        self.m1 = m1\n",
    "        self.m2 = m2\n",
    "        \n",
    "    \n",
    "    def add(self, a, b, c):\n",
    "        c = a + b + c\n",
    "        return c\n",
    "    \n",
    "\n",
    "s1 = Student(10,40) # not used in the code, only the object of the class is create\n",
    "s1.add(10,10,10) # here the add method takes 3 arguments, but what if we only want to pass 2 arguments rather than three.\n"
   ]
  },
  {
   "cell_type": "code",
   "execution_count": 22,
   "metadata": {},
   "outputs": [
    {
     "ename": "TypeError",
     "evalue": "add() missing 1 required positional argument: 'c'",
     "output_type": "error",
     "traceback": [
      "\u001b[1;31m---------------------------------------------------------------------------\u001b[0m",
      "\u001b[1;31mTypeError\u001b[0m                                 Traceback (most recent call last)",
      "\u001b[1;32m<ipython-input-22-48d5d0feb5a4>\u001b[0m in \u001b[0;36m<module>\u001b[1;34m\u001b[0m\n\u001b[0;32m     13\u001b[0m \u001b[1;33m\u001b[0m\u001b[0m\n\u001b[0;32m     14\u001b[0m \u001b[0ms1\u001b[0m \u001b[1;33m=\u001b[0m \u001b[0mStudent\u001b[0m\u001b[1;33m(\u001b[0m\u001b[1;36m10\u001b[0m\u001b[1;33m,\u001b[0m\u001b[1;36m40\u001b[0m\u001b[1;33m)\u001b[0m \u001b[1;31m# not used in the code, only the object of the class is created\u001b[0m\u001b[1;33m\u001b[0m\u001b[1;33m\u001b[0m\u001b[0m\n\u001b[1;32m---> 15\u001b[1;33m \u001b[0ms1\u001b[0m\u001b[1;33m.\u001b[0m\u001b[0madd\u001b[0m\u001b[1;33m(\u001b[0m\u001b[1;36m10\u001b[0m\u001b[1;33m,\u001b[0m\u001b[1;36m10\u001b[0m\u001b[1;33m)\u001b[0m \u001b[1;31m# the output gives us an error, in other languages we could have made another method with the same name and\u001b[0m\u001b[1;33m\u001b[0m\u001b[1;33m\u001b[0m\u001b[0m\n\u001b[0m\u001b[0;32m     16\u001b[0m               \u001b[1;31m# alot it with the number of arguments we want. Method Overloading but in python we do as follows in the next cell\u001b[0m\u001b[1;33m\u001b[0m\u001b[1;33m\u001b[0m\u001b[1;33m\u001b[0m\u001b[0m\n",
      "\u001b[1;31mTypeError\u001b[0m: add() missing 1 required positional argument: 'c'"
     ]
    }
   ],
   "source": [
    "# Let's try passing two arguments rather than 3\n",
    "class Student:\n",
    "    \n",
    "    def __init__(self, m1, m2):\n",
    "        self.m1 = m1\n",
    "        self.m2 = m2\n",
    "        \n",
    "    \n",
    "    def add(self, a, b, c):\n",
    "        c = a + b + c\n",
    "        return c\n",
    "    \n",
    "\n",
    "s1 = Student(10,40) # not used in the code, only the object of the class is created\n",
    "s1.add(10,10) # the output gives us an error, in other languages we could have made another method with the same name and \n",
    "              # alot it with the number of arguments we want. Method Overloading but in python we do as follows in the next cell\n"
   ]
  },
  {
   "cell_type": "code",
   "execution_count": 23,
   "metadata": {},
   "outputs": [
    {
     "data": {
      "text/plain": [
       "20"
      ]
     },
     "execution_count": 23,
     "metadata": {},
     "output_type": "execute_result"
    }
   ],
   "source": [
    "# Method overloading in python\n",
    "\n",
    "class Student:\n",
    "    \n",
    "    def __init__(self, m1, m2):\n",
    "        self.m1 = m1\n",
    "        self.m2 = m2\n",
    "        \n",
    "    \n",
    "    def add(self, a=None, b=None, c=None):  # if we give the arguments default values of null then we don't need to write\n",
    "        s = 0                               # another method with the wanted number of arguments. This is Method overloading\n",
    "                                            # in python\n",
    "            # Logic behind the method overloading in python below\n",
    "        if a != None and b != None and c != None:\n",
    "            s = a + b + c\n",
    "        elif a != None and b != None:\n",
    "            s = a + b\n",
    "        else:\n",
    "            s = a\n",
    "            \n",
    "        return s                            \n",
    "    \n",
    "\n",
    "s1 = Student(10,40) # not used in the code, only the object of the class is created\n",
    "s1.add(10,10)"
   ]
  },
  {
   "cell_type": "code",
   "execution_count": 24,
   "metadata": {},
   "outputs": [
    {
     "name": "stdout",
     "output_type": "stream",
     "text": [
      "Class A showing...\n"
     ]
    },
    {
     "ename": "AttributeError",
     "evalue": "'B' object has no attribute 'show'",
     "output_type": "error",
     "traceback": [
      "\u001b[1;31m---------------------------------------------------------------------------\u001b[0m",
      "\u001b[1;31mAttributeError\u001b[0m                            Traceback (most recent call last)",
      "\u001b[1;32m<ipython-input-24-5b812068aac4>\u001b[0m in \u001b[0;36m<module>\u001b[1;34m\u001b[0m\n\u001b[0;32m     13\u001b[0m \u001b[0mb\u001b[0m \u001b[1;33m=\u001b[0m \u001b[0mB\u001b[0m\u001b[1;33m(\u001b[0m\u001b[1;33m)\u001b[0m\u001b[1;33m\u001b[0m\u001b[1;33m\u001b[0m\u001b[0m\n\u001b[0;32m     14\u001b[0m \u001b[0ma\u001b[0m\u001b[1;33m.\u001b[0m\u001b[0mshow\u001b[0m\u001b[1;33m(\u001b[0m\u001b[1;33m)\u001b[0m    \u001b[1;31m# a object outputs the show method whereas b object doesn't why?\u001b[0m\u001b[1;33m\u001b[0m\u001b[1;33m\u001b[0m\u001b[0m\n\u001b[1;32m---> 15\u001b[1;33m \u001b[0mb\u001b[0m\u001b[1;33m.\u001b[0m\u001b[0mshow\u001b[0m\u001b[1;33m(\u001b[0m\u001b[1;33m)\u001b[0m    \u001b[1;31m# a object has the ability of show and b obj has no ability of show but if we do the following , next cell\u001b[0m\u001b[1;33m\u001b[0m\u001b[1;33m\u001b[0m\u001b[0m\n\u001b[0m",
      "\u001b[1;31mAttributeError\u001b[0m: 'B' object has no attribute 'show'"
     ]
    }
   ],
   "source": [
    "# Method Overriding\n",
    "\n",
    "class A:\n",
    "    \n",
    "    def show(self):\n",
    "        print(\"Class A showing...\")\n",
    "        \n",
    "class B:\n",
    "    \n",
    "    pass\n",
    "\n",
    "a = A()\n",
    "b = B()\n",
    "a.show()    # a object outputs the show method whereas b object doesn't why?\n",
    "b.show()    # a object has the ability of show and b obj has no ability of show but if we do the following , next cell"
   ]
  },
  {
   "cell_type": "markdown",
   "metadata": {},
   "source": [
    "**&#8595;**"
   ]
  },
  {
   "cell_type": "code",
   "execution_count": 25,
   "metadata": {},
   "outputs": [
    {
     "name": "stdout",
     "output_type": "stream",
     "text": [
      "Class A showing...\n",
      "Class A showing...\n"
     ]
    }
   ],
   "source": [
    "class A:\n",
    "    \n",
    "    def show(selfa):\n",
    "        print(\"Class A showing...\")\n",
    "        \n",
    "class B(A):\n",
    "    \n",
    "    pass\n",
    "\n",
    "a = A()\n",
    "b = B()\n",
    "a.show()  # here both a and b object outputs show method, since B inherits A. object b searches for show method in its class(B)\n",
    "b.show()  # first. if the show method is not present it searches in the parent class and displayes the method if its there.   "
   ]
  },
  {
   "cell_type": "markdown",
   "metadata": {},
   "source": [
    "&#8595;"
   ]
  },
  {
   "cell_type": "code",
   "execution_count": 26,
   "metadata": {},
   "outputs": [
    {
     "name": "stdout",
     "output_type": "stream",
     "text": [
      "Class A showing...\n",
      "Class B showing...\n"
     ]
    }
   ],
   "source": [
    "class A:\n",
    "    \n",
    "    def show(self):\n",
    "        print(\"Class A showing...\")\n",
    "        \n",
    "class B(A):\n",
    "    \n",
    "    def show(self):   # class B has its own show method now\n",
    "        print(\"Class B showing...\")    \n",
    "        \n",
    "a = A()\n",
    "b = B()\n",
    "a.show()    # a shows its own show method\n",
    "b.show()    # Object b now has its own show method eventhough it inherits the show method of A. It doesn't display that Class A\n",
    "            # show method now. This is called method overriding. Now class b has its very own show method and it won't use the\n",
    "            # show method of class A when called from class B object."
   ]
  },
  {
   "cell_type": "markdown",
   "metadata": {},
   "source": [
    "# --x--x--x--x--x--"
   ]
  },
  {
   "cell_type": "code",
   "execution_count": 28,
   "metadata": {},
   "outputs": [
    {
     "name": "stdout",
     "output_type": "stream",
     "text": [
      "Calling protected member of base class: \n",
      "2\n"
     ]
    },
    {
     "ename": "AttributeError",
     "evalue": "'Base' object has no attribute 'a'",
     "output_type": "error",
     "traceback": [
      "\u001b[1;31m---------------------------------------------------------------------------\u001b[0m",
      "\u001b[1;31mAttributeError\u001b[0m                            Traceback (most recent call last)",
      "\u001b[1;32m<ipython-input-28-aeedfc629180>\u001b[0m in \u001b[0;36m<module>\u001b[1;34m\u001b[0m\n\u001b[0;32m     28\u001b[0m \u001b[1;31m# Outside class will  result in\u001b[0m\u001b[1;33m\u001b[0m\u001b[1;33m\u001b[0m\u001b[1;33m\u001b[0m\u001b[0m\n\u001b[0;32m     29\u001b[0m \u001b[1;31m# AttributeError\u001b[0m\u001b[1;33m\u001b[0m\u001b[1;33m\u001b[0m\u001b[1;33m\u001b[0m\u001b[0m\n\u001b[1;32m---> 30\u001b[1;33m \u001b[0mprint\u001b[0m\u001b[1;33m(\u001b[0m\u001b[0mobj2\u001b[0m\u001b[1;33m.\u001b[0m\u001b[0ma\u001b[0m\u001b[1;33m)\u001b[0m\u001b[1;33m\u001b[0m\u001b[1;33m\u001b[0m\u001b[0m\n\u001b[0m",
      "\u001b[1;31mAttributeError\u001b[0m: 'Base' object has no attribute 'a'"
     ]
    }
   ],
   "source": [
    "# Python program to\n",
    "# demonstrate protected members\n",
    "# ENCAPSULATION\n",
    "\n",
    " \n",
    "# Creating a base class\n",
    "class Base:\n",
    "    def __init__(self):\n",
    "         \n",
    "        # Protected member\n",
    "        self._a = 2\n",
    " \n",
    "# Creating a derived class    \n",
    "class Derived(Base):\n",
    "    def __init__(self):\n",
    "         \n",
    "        # Calling constructor of\n",
    "        # Base class\n",
    "        Base.__init__(self) \n",
    "        print(\"Calling protected member of base class: \")\n",
    "        print(self._a)\n",
    " \n",
    "obj1 = Derived()\n",
    "         \n",
    "obj2 = Base()\n",
    " \n",
    "# Calling protected member\n",
    "# Outside class will  result in \n",
    "# AttributeError\n",
    "print(obj2.a)"
   ]
  },
  {
   "cell_type": "code",
   "execution_count": null,
   "metadata": {},
   "outputs": [],
   "source": []
  }
 ],
 "metadata": {
  "kernelspec": {
   "display_name": "Python 3",
   "language": "python",
   "name": "python3"
  },
  "language_info": {
   "codemirror_mode": {
    "name": "ipython",
    "version": 3
   },
   "file_extension": ".py",
   "mimetype": "text/x-python",
   "name": "python",
   "nbconvert_exporter": "python",
   "pygments_lexer": "ipython3",
   "version": "3.9.0"
  }
 },
 "nbformat": 4,
 "nbformat_minor": 4
}
